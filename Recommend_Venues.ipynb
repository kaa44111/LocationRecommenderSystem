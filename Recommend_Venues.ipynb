{
 "cells": [
  {
   "cell_type": "code",
   "execution_count": 7,
   "id": "dbd39674-34ed-4933-bcd0-25d8b085d208",
   "metadata": {},
   "outputs": [
    {
     "name": "stdout",
     "output_type": "stream",
     "text": [
      "   User_ID                  Venue_ID         Venue_Category_ID  \\\n",
      "0      470  49bbd6c0f964a520f4531fe3  4bf58dd8d48988d127951735   \n",
      "1      979  4a43c0aef964a520c6a61fe3  4bf58dd8d48988d1df941735   \n",
      "2       69  4c5cc7b485a1e21e00d35711  4bf58dd8d48988d103941735   \n",
      "3      395  4bc7086715a7ef3bef9878da  4bf58dd8d48988d104941735   \n",
      "4       87  4cf2c5321d18a143951b5cec  4bf58dd8d48988d1cb941735   \n",
      "\n",
      "   Venue_Category_Name   Latitude  Longitude  Timezone_Offset  \\\n",
      "0  Arts & Crafts Store  40.719810 -74.002581             -240   \n",
      "1               Bridge  40.606800 -74.044170             -240   \n",
      "2       Home (private)  40.716162 -73.883070             -240   \n",
      "3       Medical Center  40.745164 -73.982519             -240   \n",
      "4           Food Truck  40.740104 -73.989658             -240   \n",
      "\n",
      "                         UTC_Time  \n",
      "0  Tue Apr 03 18:00:09 +0000 2012  \n",
      "1  Tue Apr 03 18:00:25 +0000 2012  \n",
      "2  Tue Apr 03 18:02:24 +0000 2012  \n",
      "3  Tue Apr 03 18:02:41 +0000 2012  \n",
      "4  Tue Apr 03 18:03:00 +0000 2012  \n"
     ]
    }
   ],
   "source": [
    "import pandas as pd\n",
    "from sklearn.metrics.pairwise import cosine_similarity\n",
    "\n",
    "# Step 1: Load the dataset\n",
    "data = pd.read_csv('dataset_NYC.txt', sep='\\t', header=None, encoding='ISO-8859-1')\n",
    "data.columns = ['User_ID', 'Venue_ID', 'Venue_Category_ID', 'Venue_Category_Name', 'Latitude', 'Longitude', 'Timezone_Offset', 'UTC_Time']\n",
    "print(data.head())"
   ]
  },
  {
   "cell_type": "code",
   "execution_count": 38,
   "id": "488dde62-e7d5-4c5d-8f79-9dc47fcf05bf",
   "metadata": {},
   "outputs": [],
   "source": [
    "# Step 2: Preprocess the dataset\n",
    "# Apply one-hot encoding for venue categories\n",
    "venue_categories = pd.get_dummies(data['Venue_Category_Name'])\n",
    "data = pd.concat([data, venue_categories], axis=1)\n",
    "\n",
    "# Step 3: Function to recommend venues\n",
    "def recommend_venues(user_id, category_name, top_n=5):\n",
    "    # Filter data for the given user\n",
    "    user_data = data[data['User_ID'] == user_id]\n",
    "\n",
    "    # Summarize user preferences for each category\n",
    "    user_profile = user_data[venue_categories.columns].sum()\n",
    "\n",
    "    # Filter venues of the specified category\n",
    "    category_data = data[data['Venue_Category_Name'] == category_name]\n",
    "\n",
    "    # Exclude venues already visited by the user\n",
    "    visited_venues = user_data['Venue_ID'].unique()\n",
    "    unvisited_venues = category_data[~category_data['Venue_ID'].isin(visited_venues)]\n",
    "\n",
    "    # Compute similarity between user profile and unvisited venues\n",
    "    category_vectors = unvisited_venues[venue_categories.columns].values\n",
    "    user_vector = user_profile.values.reshape(1, -1)\n",
    "    similarities = cosine_similarity(user_vector, category_vectors)[0]\n",
    "\n",
    "    # Add similarity scores to unvisited venues\n",
    "    unvisited_venues = unvisited_venues.copy()\n",
    "    unvisited_venues['Similarity'] = similarities\n",
    "\n",
    "\n",
    "    # Sort venues by similarity and return top N\n",
    "    recommendations = unvisited_venues.sort_values(by='Similarity', ascending=False).head(top_n)\n",
    "    return recommendations[['Venue_ID', 'Venue_Category_Name', 'Latitude', 'Longitude', 'Similarity']]"
   ]
  },
  {
   "cell_type": "code",
   "execution_count": 29,
   "id": "7342a912-eae4-49ab-b066-5d53f9ec0a32",
   "metadata": {},
   "outputs": [
    {
     "name": "stdout",
     "output_type": "stream",
     "text": [
      "                        Venue_ID Venue_Category_Name   Latitude  Longitude  \\\n",
      "149     4f318c84e5e8657f88d830ac                 Bar  40.725730 -73.792527   \n",
      "159676  3fd66200f964a520aae81ee3                 Bar  40.760753 -73.990799   \n",
      "159624  43a46529f964a520492c1fe3                 Bar  40.732030 -73.985497   \n",
      "159625  3fd66200f964a52060e81ee3                 Bar  40.798841 -73.963061   \n",
      "159629  406dfe80f964a52048f21ee3                 Bar  40.739977 -73.993325   \n",
      "\n",
      "        Similarity  \n",
      "149            0.0  \n",
      "159676         0.0  \n",
      "159624         0.0  \n",
      "159625         0.0  \n",
      "159629         0.0  \n"
     ]
    }
   ],
   "source": [
    "# Step 4: Example usage\n",
    "user_id = '293'  # Replace with a valid User_ID from the dataset\n",
    "category_name = 'Bar'  # Replace with a valid category\n",
    "recommendations = recommend_venues(user_id, category_name)\n",
    "print(recommendations)"
   ]
  },
  {
   "cell_type": "code",
   "execution_count": null,
   "id": "acd44ca6-1145-4e95-8679-a72b82413f63",
   "metadata": {},
   "outputs": [],
   "source": []
  },
  {
   "cell_type": "code",
   "execution_count": 30,
   "id": "a704355c-0a4f-4e75-b91f-a64a3a8f0313",
   "metadata": {},
   "outputs": [
    {
     "name": "stdout",
     "output_type": "stream",
     "text": [
      "Empty DataFrame\n",
      "Columns: [User_ID, Venue_ID, Venue_Category_ID, Venue_Category_Name, Latitude, Longitude, Timezone_Offset, UTC_Time, Afghan Restaurant, African Restaurant, Airport, American Restaurant, Animal Shelter, Antique Shop, Aquarium, Arcade, Arepa Restaurant, Argentinian Restaurant, Art Gallery, Art Museum, Arts & Crafts Store, Arts & Entertainment, Asian Restaurant, Athletic & Sport, Australian Restaurant, Automotive Shop, BBQ Joint, Bagel Shop, Bakery, Bank, Bar, Beach, Beer Garden, Bike Rental / Bike Share, Bike Shop, Board Shop, Bookstore, Bowling Alley, Brazilian Restaurant, Breakfast Spot, Brewery, Bridal Shop, Bridge, Building, Burger Joint, Burrito Place, Bus Station, Café, Cajun / Creole Restaurant, Camera Store, Campground, Candy Store, Car Dealership, Car Wash, Caribbean Restaurant, Casino, Castle, Cemetery, Chinese Restaurant, Church, City, Clothing Store, Coffee Shop, College & University, College Academic Building, College Stadium, College Theater, Comedy Club, Community College, Concert Hall, Convenience Store, Convention Center, Cosmetics Shop, Cuban Restaurant, Cupcake Shop, Deli / Bodega, Department Store, Design Studio, Dessert Shop, Dim Sum Restaurant, Diner, Distillery, Donut Shop, Drugstore / Pharmacy, Dumpling Restaurant, Eastern European Restaurant, Electronics Store, Elementary School, Embassy / Consulate, Ethiopian Restaurant, Event Space, Factory, Fair, Falafel Restaurant, Fast Food Restaurant, Ferry, Filipino Restaurant, Financial or Legal Service, Fish & Chips Shop, Flea Market, ...]\n",
      "Index: []\n",
      "\n",
      "[0 rows x 510 columns]\n",
      "Number of venues visited by user: 0\n",
      "Categories visited by user: []\n"
     ]
    }
   ],
   "source": [
    "user_data = data[data['User_ID'] == '293']  # Replace with your User_ID\n",
    "print(user_data)\n",
    "print(\"Number of venues visited by user:\", len(user_data))\n",
    "user_categories = user_data['Venue_Category_Name'].unique()\n",
    "print(\"Categories visited by user:\", user_categories)"
   ]
  },
  {
   "cell_type": "code",
   "execution_count": 31,
   "id": "dc3a1ef5-fd39-42d7-bf5f-e6f75e2c9b44",
   "metadata": {},
   "outputs": [
    {
     "name": "stdout",
     "output_type": "stream",
     "text": [
      "Total users in dataset: 1083\n",
      "Top active users:\n",
      " 293    2697\n",
      "185    2079\n",
      "354    2061\n",
      "315    1682\n",
      "84     1376\n",
      "349    1369\n",
      "384    1116\n",
      "974    1107\n",
      "768    1096\n",
      "445     952\n",
      "Name: User_ID, dtype: int64\n"
     ]
    }
   ],
   "source": [
    "user_activity = data['User_ID'].value_counts()\n",
    "print(\"Total users in dataset:\", len(user_activity))\n",
    "print(\"Top active users:\\n\", user_activity.head(10))"
   ]
  },
  {
   "cell_type": "code",
   "execution_count": 32,
   "id": "f572bfc8-1b73-4e2d-9b69-e208a456c9bc",
   "metadata": {},
   "outputs": [
    {
     "name": "stdout",
     "output_type": "stream",
     "text": [
      "Unique categories: ['Arts & Crafts Store' 'Bridge' 'Home (private)' 'Medical Center'\n",
      " 'Food Truck' 'Food & Drink Shop' 'Coffee Shop' 'Bus Station' 'Bank'\n",
      " 'Gastropub' 'Electronics Store' 'Mobile Phone Shop' 'Café'\n",
      " 'Automotive Shop' 'Restaurant' 'American Restaurant'\n",
      " 'Government Building' 'Airport' 'Ferry' 'Office' 'Other Great Outdoors'\n",
      " 'Building' 'Mexican Restaurant' 'Music Venue' 'Subway' 'Student Center'\n",
      " 'Park' 'Road' 'Burger Joint' 'Sporting Goods Shop' 'Pizza Place'\n",
      " 'Jewelry Store' 'Sandwich Place' 'Clothing Store' 'Neighborhood'\n",
      " 'Ice Cream Shop' 'Soup Place' 'College Academic Building'\n",
      " 'Department Store' 'Playground' 'Tattoo Parlor' 'Mall' 'Deli / Bodega'\n",
      " 'University' 'Diner' 'Music Store' 'Light Rail' 'Salon / Barbershop'\n",
      " 'General College & University' 'Animal Shelter' 'Laundry Service'\n",
      " 'Residential Building (Apartment / Condo)' 'Drugstore / Pharmacy'\n",
      " 'Cuban Restaurant' 'BBQ Joint' 'Other Nightlife' 'Gym / Fitness Center'\n",
      " 'Italian Restaurant' 'Stadium' 'Church' 'Train Station' 'Tanning Salon'\n",
      " 'Hotel' 'Miscellaneous Shop' 'Bar' 'Spanish Restaurant' 'Moving Target'\n",
      " 'Asian Restaurant' 'Factory' 'School' 'General Travel' 'Burrito Place'\n",
      " 'Fast Food Restaurant' 'Dumpling Restaurant' 'Cupcake Shop' 'Wings Joint'\n",
      " 'Caribbean Restaurant' 'Hardware Store' 'Performing Arts Venue'\n",
      " 'Convenience Store' 'French Restaurant' 'Bookstore' 'Bike Shop'\n",
      " 'Campground' 'Gas Station / Garage' 'Parking' 'Salad Place' 'Art Gallery'\n",
      " 'Video Game Store' 'Toy / Game Store' 'Event Space'\n",
      " 'Vegetarian / Vegan Restaurant' 'Sushi Restaurant' 'Convention Center'\n",
      " 'Chinese Restaurant' 'Latin American Restaurant' 'Spa / Massage'\n",
      " 'Paper / Office Supplies Store' 'Candy Store' 'Camera Store'\n",
      " 'Breakfast Spot' 'Southern / Soul Food Restaurant' 'Cosmetics Shop'\n",
      " 'Community College' 'Fried Chicken Joint' 'Plaza' 'Dessert Shop'\n",
      " 'Cemetery' 'Museum' 'Bagel Shop' 'Arcade' 'Concert Hall'\n",
      " 'Athletic & Sport' 'Middle Eastern Restaurant' 'Theater' 'Medical School'\n",
      " 'Tea Room' 'Movie Theater' 'Comedy Club' 'Post Office'\n",
      " 'Seafood Restaurant' 'Scenic Lookout' 'Housing Development' 'Synagogue'\n",
      " 'Donut Shop' 'General Entertainment' 'Pool' 'Japanese Restaurant'\n",
      " 'Arts & Entertainment' 'Pet Store' 'German Restaurant'\n",
      " 'Indian Restaurant' 'Garden' 'Hot Dog Joint' 'Steakhouse' 'Bowling Alley'\n",
      " 'Smoke Shop' 'Pool Hall' 'Harbor / Marina' 'Thai Restaurant' 'Bakery'\n",
      " 'Food' 'Ramen /  Noodle House' 'College Theater'\n",
      " 'Mediterranean Restaurant' 'Beer Garden' 'African Restaurant'\n",
      " 'Outdoors & Recreation' 'River' 'Sorority House' 'Beach' 'Casino'\n",
      " 'Malaysian Restaurant' 'High School' 'Snack Place' 'Taxi'\n",
      " 'College & University' 'Record Shop' 'Temple' 'Historic Site' 'Rest Area'\n",
      " 'Furniture / Home Store' 'History Museum' 'Recycling Facility'\n",
      " 'Bridal Shop' 'Library' 'Nail Salon' 'Professional & Other Places'\n",
      " 'Nursery School' 'Sculpture Garden' 'Antique Shop' 'Taco Place'\n",
      " 'South American Restaurant' 'Law School' 'Thrift / Vintage Store'\n",
      " 'Brazilian Restaurant' 'Winery' 'Greek Restaurant' 'Falafel Restaurant'\n",
      " 'Tapas Restaurant' 'City' 'Eastern European Restaurant'\n",
      " 'Korean Restaurant' 'Ski Area' 'Rental Car Location' 'Spiritual Center'\n",
      " 'Science Museum' 'Car Dealership' 'Flea Market' 'Art Museum' 'Gift Shop'\n",
      " 'Portuguese Restaurant' 'Flower Shop' 'Hobby Shop' 'Car Wash'\n",
      " 'Board Shop' 'Brewery' 'Cajun / Creole Restaurant' 'Mac & Cheese Joint'\n",
      " 'Shop & Service' 'Vietnamese Restaurant' 'Video Store'\n",
      " 'Travel & Transport' 'Dim Sum Restaurant' 'Racetrack' 'Elementary School'\n",
      " 'Zoo' 'Design Studio' 'Gaming Cafe' 'Swiss Restaurant' 'Travel Lounge'\n",
      " 'Trade School' 'Australian Restaurant' 'Funeral Home' 'Shrine'\n",
      " 'Peruvian Restaurant' 'College Stadium' 'Fraternity House'\n",
      " 'Bike Rental / Bike Share' 'Filipino Restaurant' 'Arepa Restaurant'\n",
      " 'Turkish Restaurant' 'Embassy / Consulate' 'Aquarium'\n",
      " 'Scandinavian Restaurant' 'Middle School' 'Financial or Legal Service'\n",
      " 'Fish & Chips Shop' 'Mosque' 'Afghan Restaurant' 'Motorcycle Shop' 'Fair'\n",
      " 'Ethiopian Restaurant' 'Distillery' 'Gluten-free Restaurant'\n",
      " 'Argentinian Restaurant' 'Moroccan Restaurant' 'Nightlife Spot'\n",
      " 'Planetarium' 'Storage Facility' 'Molecular Gastronomy Restaurant'\n",
      " 'Internet Cafe' 'Military Base' 'Newsstand' 'Public Art' 'Market'\n",
      " 'Photography Lab' 'Garden Center' 'Music School' 'Castle' 'Pet Service']\n",
      "Count of 'Airport' category: 2852\n"
     ]
    }
   ],
   "source": [
    "# Unique categories in the dataset\n",
    "print(\"Unique categories:\", data['Venue_Category_Name'].unique())\n",
    "print(\"Count of 'Airport' category:\", (data['Venue_Category_Name'] == 'Airport').sum())"
   ]
  },
  {
   "cell_type": "code",
   "execution_count": 33,
   "id": "478f3a97-82bd-42aa-a63b-a6c64328fd20",
   "metadata": {},
   "outputs": [
    {
     "name": "stdout",
     "output_type": "stream",
     "text": [
      "Selected User_ID: 293\n",
      "Selected Category: Bar\n"
     ]
    }
   ],
   "source": [
    "# Most active users and popular categories\n",
    "top_user = user_activity.index[0]  # Pick the most active user\n",
    "top_category = data['Venue_Category_Name'].value_counts().index[0]  # Pick the most common category\n",
    "print(\"Selected User_ID:\", top_user)\n",
    "print(\"Selected Category:\", top_category)"
   ]
  },
  {
   "cell_type": "code",
   "execution_count": 34,
   "id": "d63c29d2-f95c-419a-8d72-399e57a01f58",
   "metadata": {},
   "outputs": [
    {
     "name": "stdout",
     "output_type": "stream",
     "text": [
      "                        Venue_ID Venue_Category_Name   Latitude  Longitude  \\\n",
      "149     4f318c84e5e8657f88d830ac                 Bar  40.725730 -73.792527   \n",
      "159679  41c0d000f964a520891e1fe3                 Bar  40.726963 -73.983750   \n",
      "159636  4b99d9d0f964a520709435e3                 Bar  40.759096 -73.986461   \n",
      "159639  4c9bb662e9a7ef3bd0ed2e16                 Bar  40.764213 -73.987017   \n",
      "159642  4b39872ef964a5207d5d25e3                 Bar  40.691084 -73.997174   \n",
      "\n",
      "        Similarity  \n",
      "149       0.005525  \n",
      "159679    0.005525  \n",
      "159636    0.005525  \n",
      "159639    0.005525  \n",
      "159642    0.005525  \n"
     ]
    }
   ],
   "source": [
    "recommendations = recommend_venues(top_user, top_category)\n",
    "print(recommendations)"
   ]
  },
  {
   "cell_type": "code",
   "execution_count": 49,
   "id": "14c7314c-df8d-45da-a0c3-a3da952c026a",
   "metadata": {},
   "outputs": [],
   "source": [
    "# Filter data for the given user\n",
    "user_data = data[data['User_ID'] == top_user]\n",
    "\n",
    "# Summarize user preferences for each category\n",
    "user_profile = user_data[venue_categories.columns].sum()\n",
    "\n",
    "# Filter venues of the specified category\n",
    "category_data = data[data['Venue_Category_Name'] == top_category]\n",
    "\n",
    "    # Exclude venues already visited by the user\n",
    "visited_venues = user_data['Venue_ID'].unique()\n",
    "unvisited_venues = category_data[~category_data['Venue_ID'].isin(visited_venues)]\n",
    "\n",
    "    # Compute similarity between user profile and unvisited venues\n",
    "category_vectors = unvisited_venues[venue_categories.columns].values\n",
    "user_vector = user_profile.values.reshape(1, -1)\n",
    "similarities = cosine_similarity(user_vector, category_vectors)[0]\n",
    "\n",
    "    # Add similarity scores to unvisited venues\n",
    "unvisited_venues = unvisited_venues.copy()\n",
    "unvisited_venues['Similarity'] = similarities"
   ]
  },
  {
   "cell_type": "code",
   "execution_count": 50,
   "id": "006285f1-1d37-4dbe-8335-0ced64784804",
   "metadata": {},
   "outputs": [],
   "source": [
    "from sklearn.preprocessing import normalize\n",
    "\n",
    "# Normalize one-hot encoded data\n",
    "normalized_categories = normalize(venue_categories.values, axis=1)\n",
    "venue_categories = pd.DataFrame(normalized_categories, columns=venue_categories.columns)"
   ]
  },
  {
   "cell_type": "code",
   "execution_count": 51,
   "id": "16ee6623-0253-483a-802d-d82b66936404",
   "metadata": {},
   "outputs": [],
   "source": [
    "user_profile = user_data[venue_categories.columns].sum()\n",
    "category_vectors = unvisited_venues[venue_categories.columns].values"
   ]
  },
  {
   "cell_type": "code",
   "execution_count": 52,
   "id": "1718bcfc-e4c2-47be-b6cd-adf6cacf979c",
   "metadata": {},
   "outputs": [
    {
     "name": "stdout",
     "output_type": "stream",
     "text": [
      "User profile variance: 1975.2194731711402\n",
      "Venue vectors variance: 0.0\n"
     ]
    }
   ],
   "source": [
    "print(\"User profile variance:\", user_profile.var())\n",
    "print(\"Venue vectors variance:\", category_vectors.var(axis=0).sum())"
   ]
  },
  {
   "cell_type": "code",
   "execution_count": null,
   "id": "55d5f08a-0bbe-4dbf-b137-b237f6491913",
   "metadata": {},
   "outputs": [],
   "source": []
  }
 ],
 "metadata": {
  "kernelspec": {
   "display_name": "Python 3 (ipykernel)",
   "language": "python",
   "name": "python3"
  },
  "language_info": {
   "codemirror_mode": {
    "name": "ipython",
    "version": 3
   },
   "file_extension": ".py",
   "mimetype": "text/x-python",
   "name": "python",
   "nbconvert_exporter": "python",
   "pygments_lexer": "ipython3",
   "version": "3.10.12"
  }
 },
 "nbformat": 4,
 "nbformat_minor": 5
}
