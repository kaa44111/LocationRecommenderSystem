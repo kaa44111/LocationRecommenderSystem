{
 "cells": [
  {
   "cell_type": "markdown",
   "id": "072958fe-a1b8-41aa-bbcd-0894bd9435dd",
   "metadata": {},
   "source": [
    "## 1. Load and Inspect the Data\n",
    "Load the data and check its structure and basic statistics."
   ]
  },
  {
   "cell_type": "code",
   "execution_count": 1,
   "id": "0cbea62f-b7b0-4248-a16b-bc22f1238dc4",
   "metadata": {},
   "outputs": [
    {
     "name": "stdout",
     "output_type": "stream",
     "text": [
      "   User_ID                  Venue_ID         Venue_Category_ID  \\\n",
      "0      470  49bbd6c0f964a520f4531fe3  4bf58dd8d48988d127951735   \n",
      "1      979  4a43c0aef964a520c6a61fe3  4bf58dd8d48988d1df941735   \n",
      "2       69  4c5cc7b485a1e21e00d35711  4bf58dd8d48988d103941735   \n",
      "3      395  4bc7086715a7ef3bef9878da  4bf58dd8d48988d104941735   \n",
      "4       87  4cf2c5321d18a143951b5cec  4bf58dd8d48988d1cb941735   \n",
      "\n",
      "   Venue_Category_Name   Latitude  Longitude  Timezone_Offset  \\\n",
      "0  Arts & Crafts Store  40.719810 -74.002581             -240   \n",
      "1               Bridge  40.606800 -74.044170             -240   \n",
      "2       Home (private)  40.716162 -73.883070             -240   \n",
      "3       Medical Center  40.745164 -73.982519             -240   \n",
      "4           Food Truck  40.740104 -73.989658             -240   \n",
      "\n",
      "                         UTC_Time  \n",
      "0  Tue Apr 03 18:00:09 +0000 2012  \n",
      "1  Tue Apr 03 18:00:25 +0000 2012  \n",
      "2  Tue Apr 03 18:02:24 +0000 2012  \n",
      "3  Tue Apr 03 18:02:41 +0000 2012  \n",
      "4  Tue Apr 03 18:03:00 +0000 2012  \n",
      "Dataset shape: (227428, 8)\n",
      "             User_ID       Latitude      Longitude  Timezone_Offset\n",
      "count  227428.000000  227428.000000  227428.000000    227428.000000\n",
      "mean      535.304817      40.754045     -73.974556      -253.392019\n",
      "std       305.398774       0.072458       0.086209        43.234750\n",
      "min         1.000000      40.550852     -74.274766      -420.000000\n",
      "25%       287.000000      40.718330     -74.000633      -240.000000\n",
      "50%       523.000000      40.747745     -73.983479      -240.000000\n",
      "75%       793.000000      40.778374     -73.945709      -240.000000\n",
      "max      1083.000000      40.988332     -73.683825       660.000000\n",
      "Missing values per column:\n",
      " User_ID                0\n",
      "Venue_ID               0\n",
      "Venue_Category_ID      0\n",
      "Venue_Category_Name    0\n",
      "Latitude               0\n",
      "Longitude              0\n",
      "Timezone_Offset        0\n",
      "UTC_Time               0\n",
      "dtype: int64\n"
     ]
    }
   ],
   "source": [
    "import pandas as pd\n",
    "\n",
    "# Load the dataset\n",
    "data = pd.read_csv('dataset_NYC.txt', sep='\\t', header=None, encoding='ISO-8859-1')\n",
    "data.columns = ['User_ID', 'Venue_ID', 'Venue_Category_ID', 'Venue_Category_Name', 'Latitude', 'Longitude', 'Timezone_Offset', 'UTC_Time']\n",
    "\n",
    "# Inspect the first few rows\n",
    "print(data.head())\n",
    "\n",
    "# Check dataset dimensions\n",
    "print(\"Dataset shape:\", data.shape)\n",
    "\n",
    "# Summary statistics\n",
    "print(data.describe())\n",
    "\n",
    "# Check for missing values\n",
    "print(\"Missing values per column:\\n\", data.isnull().sum())"
   ]
  },
  {
   "cell_type": "markdown",
   "id": "7a587a1c-4a14-4cff-a73c-ae39a2509b68",
   "metadata": {},
   "source": [
    "## 2.Handle Missing Values\n",
    "Analyze the number of unique users, venues, and categories.\n",
    "\n",
    "### a) Handle Venue_Category_Name:"
   ]
  },
  {
   "cell_type": "code",
   "execution_count": 2,
   "id": "4e5759d3-e9f1-4119-9594-a97f58d2c86f",
   "metadata": {},
   "outputs": [],
   "source": [
    "# Fill missing categories with the most frequent category\n",
    "most_frequent_category = data['Venue_Category_Name'].mode()[0]\n",
    "data['Venue_Category_Name'] = data['Venue_Category_Name'].fillna(most_frequent_category)"
   ]
  },
  {
   "cell_type": "markdown",
   "id": "5fbe2158-86c6-4dcf-8c4f-a60f416bccdf",
   "metadata": {},
   "source": [
    "### b) Drop Rows with Missing Coordinates:"
   ]
  },
  {
   "cell_type": "code",
   "execution_count": 3,
   "id": "e4e6b9c1-4b41-4c2c-a522-2b27d28c47e4",
   "metadata": {},
   "outputs": [
    {
     "name": "stdout",
     "output_type": "stream",
     "text": [
      "Dataset shape: (227428, 8)\n"
     ]
    }
   ],
   "source": [
    "# Remove rows with missing Latitude or Longitude\n",
    "data = data.dropna(subset=['Latitude', 'Longitude'])\n",
    "print(\"Dataset shape:\", data.shape)"
   ]
  },
  {
   "cell_type": "markdown",
   "id": "08f798f2-7000-4ac4-83f3-5741eb9669a7",
   "metadata": {},
   "source": [
    "## 3.  Remove Outliers\n",
    "### a) Check Coordinate Bounds:\n",
    "\n",
    "Use approximate bounds for New York City:"
   ]
  },
  {
   "cell_type": "code",
   "execution_count": 4,
   "id": "f12c0226-bb57-4a0d-8d48-84912ba1ec7f",
   "metadata": {},
   "outputs": [],
   "source": [
    "# Filter data within NYC bounds\n",
    "data = data[(data['Latitude'] >= 40.5) & (data['Latitude'] <= 41) & \n",
    "            (data['Longitude'] >= -74.25) & (data['Longitude'] <= -73.5)]"
   ]
  },
  {
   "cell_type": "markdown",
   "id": "29809fd1-e326-47ef-a2d7-591b0fa2bc8f",
   "metadata": {},
   "source": [
    "### b) Remove Rare or Extreme Categories:\n",
    "\n",
    "If any categories have very few entries, decide whether to keep them:"
   ]
  },
  {
   "cell_type": "code",
   "execution_count": 5,
   "id": "6264cebe-8f1c-4140-bd53-caac82537097",
   "metadata": {},
   "outputs": [
    {
     "name": "stdout",
     "output_type": "stream",
     "text": [
      "Venue_Category_Name\n",
      "Bar                     15960\n",
      "Home (private)          15231\n",
      "Office                  12735\n",
      "Subway                   9348\n",
      "Gym / Fitness Center     9127\n",
      "                        ...  \n",
      "Pet Service                 3\n",
      "Motorcycle Shop             2\n",
      "Photography Lab             2\n",
      "Castle                      2\n",
      "Music School                1\n",
      "Name: count, Length: 251, dtype: int64\n"
     ]
    }
   ],
   "source": [
    "# Check frequency of categories\n",
    "category_counts = data['Venue_Category_Name'].value_counts()\n",
    "print(category_counts)\n",
    "\n",
    "# Optional: Drop categories with less than 5 occurrences\n",
    "rare_categories = category_counts[category_counts < 100].index\n",
    "data = data[~data['Venue_Category_Name'].isin(rare_categories)]"
   ]
  },
  {
   "cell_type": "code",
   "execution_count": 6,
   "id": "c252ad6c-a912-4ad3-8bf8-95e91c12f239",
   "metadata": {},
   "outputs": [
    {
     "name": "stdout",
     "output_type": "stream",
     "text": [
      "Venue_Category_Name\n",
      "Bar                     15960\n",
      "Home (private)          15231\n",
      "Office                  12735\n",
      "Subway                   9348\n",
      "Gym / Fitness Center     9127\n",
      "                        ...  \n",
      "Market                    113\n",
      "Factory                   112\n",
      "Record Shop               112\n",
      "Zoo                       104\n",
      "Pool Hall                 100\n",
      "Name: count, Length: 167, dtype: int64\n"
     ]
    }
   ],
   "source": [
    "category_counts = data['Venue_Category_Name'].value_counts()\n",
    "print(category_counts)"
   ]
  },
  {
   "cell_type": "markdown",
   "id": "1859da21-d286-4d85-8a95-ab977f7867e6",
   "metadata": {},
   "source": [
    "## 4. Transform Features\n",
    "\n",
    "### a) Normalize Latitude and Longitude:"
   ]
  },
  {
   "cell_type": "code",
   "execution_count": 7,
   "id": "ac8432bf-7a5f-420b-9ff2-03d03dd6a260",
   "metadata": {},
   "outputs": [],
   "source": [
    "from sklearn.preprocessing import StandardScaler\n",
    "\n",
    "# Normalize coordinates\n",
    "scaler = StandardScaler()\n",
    "data[['Latitude', 'Longitude']] = scaler.fit_transform(data[['Latitude', 'Longitude']])"
   ]
  },
  {
   "cell_type": "markdown",
   "id": "b7e6b887-3798-446a-8644-235393ea3784",
   "metadata": {},
   "source": [
    "### b) Encode Categories with One-Hot Encoding:"
   ]
  },
  {
   "cell_type": "code",
   "execution_count": 8,
   "id": "364b50ea-6019-45d1-a3f6-741e7ab3bb9a",
   "metadata": {},
   "outputs": [],
   "source": [
    "# One-hot encode venue categories\n",
    "venue_categories = pd.get_dummies(data['Venue_Category_Name'], prefix='Category')\n",
    "data = pd.concat([data, venue_categories], axis=1)"
   ]
  },
  {
   "cell_type": "markdown",
   "id": "09a362e7-02ac-4edd-83ea-b16674613b64",
   "metadata": {},
   "source": [
    "## 5. Enhance Dataset\n",
    "\n",
    "### a) Add Popularity as a Feature:\n",
    "\n",
    "Calculate the number of check-ins per venue:"
   ]
  },
  {
   "cell_type": "code",
   "execution_count": 9,
   "id": "83682fef-804e-4f23-a4cd-4a38adb6525a",
   "metadata": {},
   "outputs": [],
   "source": [
    "venue_popularity = data['Venue_ID'].value_counts()\n",
    "data['Venue_Popularity'] = data['Venue_ID'].map(venue_popularity).fillna(0)"
   ]
  },
  {
   "cell_type": "markdown",
   "id": "9fa4e986-f375-47df-805a-4751cab06709",
   "metadata": {},
   "source": [
    "### b) Add Proximity to a Central Location:\n",
    "\n",
    "Compute distances from the normalized NYC center (approx. [0, 0]):"
   ]
  },
  {
   "cell_type": "code",
   "execution_count": 10,
   "id": "205b6d03-3b42-4477-9086-da621a71c0d3",
   "metadata": {},
   "outputs": [],
   "source": [
    "# Compute proximity\n",
    "data['Proximity'] = (data['Latitude']**2 + data['Longitude']**2)**0.5"
   ]
  },
  {
   "cell_type": "code",
   "execution_count": 11,
   "id": "6d534e9b-c856-4eb5-827f-9190c534d50c",
   "metadata": {},
   "outputs": [
    {
     "name": "stdout",
     "output_type": "stream",
     "text": [
      "   User_ID                  Venue_ID         Venue_Category_ID  \\\n",
      "0      470  49bbd6c0f964a520f4531fe3  4bf58dd8d48988d127951735   \n",
      "1      979  4a43c0aef964a520c6a61fe3  4bf58dd8d48988d1df941735   \n",
      "2       69  4c5cc7b485a1e21e00d35711  4bf58dd8d48988d103941735   \n",
      "3      395  4bc7086715a7ef3bef9878da  4bf58dd8d48988d104941735   \n",
      "4       87  4cf2c5321d18a143951b5cec  4bf58dd8d48988d1cb941735   \n",
      "\n",
      "   Venue_Category_Name  Latitude  Longitude  Timezone_Offset  \\\n",
      "0  Arts & Crafts Store -0.471145  -0.337254             -240   \n",
      "1               Bridge -2.026610  -0.825377             -240   \n",
      "2       Home (private) -0.521365   1.065434             -240   \n",
      "3       Medical Center -0.122184  -0.101785             -240   \n",
      "4           Food Truck -0.191829  -0.185582             -240   \n",
      "\n",
      "                         UTC_Time  Category_Airport  \\\n",
      "0  Tue Apr 03 18:00:09 +0000 2012             False   \n",
      "1  Tue Apr 03 18:00:25 +0000 2012             False   \n",
      "2  Tue Apr 03 18:02:24 +0000 2012             False   \n",
      "3  Tue Apr 03 18:02:41 +0000 2012             False   \n",
      "4  Tue Apr 03 18:03:00 +0000 2012             False   \n",
      "\n",
      "   Category_American Restaurant  ...  Category_Toy / Game Store  \\\n",
      "0                         False  ...                      False   \n",
      "1                         False  ...                      False   \n",
      "2                         False  ...                      False   \n",
      "3                         False  ...                      False   \n",
      "4                         False  ...                      False   \n",
      "\n",
      "   Category_Train Station  Category_University  \\\n",
      "0                   False                False   \n",
      "1                   False                False   \n",
      "2                   False                False   \n",
      "3                   False                False   \n",
      "4                   False                False   \n",
      "\n",
      "   Category_Vegetarian / Vegan Restaurant  Category_Video Game Store  \\\n",
      "0                                   False                      False   \n",
      "1                                   False                      False   \n",
      "2                                   False                      False   \n",
      "3                                   False                      False   \n",
      "4                                   False                      False   \n",
      "\n",
      "   Category_Vietnamese Restaurant  Category_Wings Joint  Category_Zoo  \\\n",
      "0                           False                 False         False   \n",
      "1                           False                 False         False   \n",
      "2                           False                 False         False   \n",
      "3                           False                 False         False   \n",
      "4                           False                 False         False   \n",
      "\n",
      "   Venue_Popularity  Proximity  \n",
      "0                33   0.579412  \n",
      "1               135   2.188240  \n",
      "2               104   1.186158  \n",
      "3                 2   0.159026  \n",
      "4                10   0.266906  \n",
      "\n",
      "[5 rows x 177 columns]\n"
     ]
    }
   ],
   "source": [
    "# Inspect the first few rows\n",
    "print(data.head())"
   ]
  },
  {
   "cell_type": "markdown",
   "id": "0a753fc4-9f2c-427b-9886-04c70d43dd20",
   "metadata": {},
   "source": [
    "### c) Add Time Features\n",
    "Extract useful time features from UTC_Time:"
   ]
  },
  {
   "cell_type": "code",
   "execution_count": 19,
   "id": "70c6b7a2-c351-44f0-8533-d923991fdfcc",
   "metadata": {},
   "outputs": [],
   "source": [
    "# Convert UTC_Time to datetime format\n",
    "data['UTC_Time'] = pd.to_datetime(data['UTC_Time'], errors='coerce')\n",
    "\n",
    "# Extract time-based features\n",
    "data['Hour'] = data['UTC_Time'].dt.hour\n",
    "data['Day'] = data['UTC_Time'].dt.day\n",
    "data['Month'] = data['UTC_Time'].dt.month"
   ]
  },
  {
   "cell_type": "markdown",
   "id": "0eec7122-bc26-4582-9249-bf1e8b31f75c",
   "metadata": {},
   "source": [
    "## 6. Prepare Data for Recommendations\n",
    "\n",
    "### a) Create User Profiles:\n",
    "\n",
    "Aggregate user activity across all categories:"
   ]
  },
  {
   "cell_type": "code",
   "execution_count": 20,
   "id": "0b37fa04-c00d-4d42-80bc-2a3dc895abb9",
   "metadata": {},
   "outputs": [
    {
     "name": "stdout",
     "output_type": "stream",
     "text": [
      "         Category_Airport  Category_American Restaurant  Category_Arcade  \\\n",
      "User_ID                                                                    \n",
      "1                       3                            10                0   \n",
      "2                       0                             4                0   \n",
      "3                       8                            20                0   \n",
      "4                       0                             1                0   \n",
      "5                       0                             0                0   \n",
      "\n",
      "         Category_Art Gallery  Category_Art Museum  \\\n",
      "User_ID                                              \n",
      "1                           0                    0   \n",
      "2                           0                    0   \n",
      "3                           0                    5   \n",
      "4                           0                    1   \n",
      "5                           0                    0   \n",
      "\n",
      "         Category_Arts & Crafts Store  Category_Asian Restaurant  \\\n",
      "User_ID                                                            \n",
      "1                                   0                          0   \n",
      "2                                   3                          0   \n",
      "3                                   0                          1   \n",
      "4                                   0                          0   \n",
      "5                                   0                          0   \n",
      "\n",
      "         Category_Athletic & Sport  Category_Automotive Shop  \\\n",
      "User_ID                                                        \n",
      "1                                0                         0   \n",
      "2                                0                         0   \n",
      "3                                1                         0   \n",
      "4                                0                         0   \n",
      "5                                0                         0   \n",
      "\n",
      "         Category_BBQ Joint  ...  Category_Theater  \\\n",
      "User_ID                      ...                     \n",
      "1                         0  ...                 0   \n",
      "2                         0  ...                 1   \n",
      "3                         0  ...                 0   \n",
      "4                         4  ...                 3   \n",
      "5                         0  ...                 0   \n",
      "\n",
      "         Category_Thrift / Vintage Store  Category_Toy / Game Store  \\\n",
      "User_ID                                                               \n",
      "1                                      0                          0   \n",
      "2                                      0                          0   \n",
      "3                                      0                          0   \n",
      "4                                      0                          0   \n",
      "5                                      0                          0   \n",
      "\n",
      "         Category_Train Station  Category_University  \\\n",
      "User_ID                                                \n",
      "1                             0                    0   \n",
      "2                             5                    0   \n",
      "3                             0                    0   \n",
      "4                             1                    0   \n",
      "5                            16                    0   \n",
      "\n",
      "         Category_Vegetarian / Vegan Restaurant  Category_Video Game Store  \\\n",
      "User_ID                                                                      \n",
      "1                                             0                          0   \n",
      "2                                             0                          0   \n",
      "3                                             0                          0   \n",
      "4                                             0                          0   \n",
      "5                                             0                          0   \n",
      "\n",
      "         Category_Vietnamese Restaurant  Category_Wings Joint  Category_Zoo  \n",
      "User_ID                                                                      \n",
      "1                                     0                     1             0  \n",
      "2                                     0                     0             0  \n",
      "3                                     0                     0             0  \n",
      "4                                     0                     0             0  \n",
      "5                                     0                     0             0  \n",
      "\n",
      "[5 rows x 167 columns]\n"
     ]
    }
   ],
   "source": [
    "# Create user profiles by summing category activities\n",
    "user_profiles = data.groupby('User_ID')[venue_categories.columns].sum()\n",
    "print(user_profiles.head())"
   ]
  },
  {
   "cell_type": "markdown",
   "id": "2cdf0c74-2773-4164-8852-8784178220a0",
   "metadata": {},
   "source": [
    "### b) Filter Unvisited Venues for Recommendation:\n",
    "\n",
    "Identify venues not visited by a specific user:"
   ]
  },
  {
   "cell_type": "code",
   "execution_count": 21,
   "id": "40712a7d-a42e-4b31-a549-f3169b77a0c6",
   "metadata": {},
   "outputs": [],
   "source": [
    "# Example: User-specific data\n",
    "user_id = 293  # Replace with your user ID\n",
    "user_data = data[data['User_ID'] == user_id]\n",
    "\n",
    "# Identify unvisited venues\n",
    "visited_venues = user_data['Venue_ID'].unique()\n",
    "unvisited_venues = data[~data['Venue_ID'].isin(visited_venues)]"
   ]
  },
  {
   "cell_type": "markdown",
   "id": "707b5113-e6e9-4e0e-aa4b-b4d91118a354",
   "metadata": {},
   "source": [
    "#### Check the variance of user profiles and venue vectors:"
   ]
  },
  {
   "cell_type": "code",
   "execution_count": 22,
   "id": "622d15d4-bebd-49ee-82f1-7f35f385db03",
   "metadata": {},
   "outputs": [
    {
     "name": "stdout",
     "output_type": "stream",
     "text": [
      "User profile variance: User_ID\n",
      "1     4.477310\n",
      "2     6.055840\n",
      "3     5.063992\n",
      "4    29.154318\n",
      "5     6.995311\n",
      "dtype: float64\n",
      "Venue vectors variance: 0.9748250510218635\n"
     ]
    }
   ],
   "source": [
    "print(\"User profile variance:\", user_profiles.var(axis=1).head())\n",
    "print(\"Venue vectors variance:\", venue_categories.var(axis=0).sum())"
   ]
  },
  {
   "cell_type": "code",
   "execution_count": 23,
   "id": "b5f5083f-db4a-4a47-93a9-d370e3b5f967",
   "metadata": {},
   "outputs": [
    {
     "name": "stdout",
     "output_type": "stream",
     "text": [
      "Unvisited venues for User_ID 470 in category 'Restaurant':\n",
      "                      Venue_ID Venue_Category_Name  Latitude  Longitude  \\\n",
      "17    4a689777f964a520a0ca1fe3          Restaurant  0.016983  -0.058210   \n",
      "685   4d76b2bf18cc5941fd7cf33f          Restaurant -0.171242  -0.349786   \n",
      "773   4e45bca962845e1d3c88924e          Restaurant -1.090270  -0.028430   \n",
      "1989  4bd57bb44e32d13a8dd9c080          Restaurant -1.715480   0.648282   \n",
      "2880  4bb9c82e7421a59301ffc240          Restaurant -1.606022  -0.189709   \n",
      "\n",
      "      Venue_Popularity  \n",
      "17                  36  \n",
      "685                  7  \n",
      "773                 11  \n",
      "1989                21  \n",
      "2880                 1  \n"
     ]
    }
   ],
   "source": [
    "# Step 6: Filter unvisited venues for a specific user\n",
    "def get_unvisited_venues(user_id, category_name):\n",
    "    user_data = data[data['User_ID'] == user_id]\n",
    "    visited_venues = user_data['Venue_ID'].unique()  # Venues the user has visited\n",
    "    unvisited_venues = data[(~data['Venue_ID'].isin(visited_venues)) & (data['Venue_Category_Name'] == category_name)]\n",
    "    return unvisited_venues\n",
    "\n",
    "# Example: Get unvisited \"Restaurant\" venues for user 470\n",
    "user_id = 470\n",
    "category_name = 'Restaurant'\n",
    "unvisited_venues = get_unvisited_venues(user_id, category_name)\n",
    "print(\"Unvisited venues for User_ID 470 in category 'Restaurant':\")\n",
    "print(unvisited_venues[['Venue_ID', 'Venue_Category_Name', 'Latitude', 'Longitude', 'Venue_Popularity']].head())"
   ]
  },
  {
   "cell_type": "code",
   "execution_count": 24,
   "id": "ceeeb119-84b2-434d-b0b8-191fdcb7532c",
   "metadata": {},
   "outputs": [
    {
     "name": "stdout",
     "output_type": "stream",
     "text": [
      "User profile variance: User_ID\n",
      "1     4.477310\n",
      "2     6.055840\n",
      "3     5.063992\n",
      "4    29.154318\n",
      "5     6.995311\n",
      "dtype: float64\n",
      "Venue vectors variance: 0.9748250510218635\n"
     ]
    }
   ],
   "source": [
    "print(\"User profile variance:\", user_profiles.var(axis=1).head())\n",
    "print(\"Venue vectors variance:\", venue_categories.var(axis=0).sum())"
   ]
  },
  {
   "cell_type": "code",
   "execution_count": 25,
   "id": "f84c024d-a58c-42ca-8ea1-5e1708245f90",
   "metadata": {},
   "outputs": [
    {
     "name": "stdout",
     "output_type": "stream",
     "text": [
      "Preprocessed dataset saved to preprocessed_dataset.csv\n"
     ]
    }
   ],
   "source": [
    "preprocessed_file = 'preprocessed_dataset.csv'\n",
    "data.to_csv(preprocessed_file, index=False)\n",
    "print(f\"Preprocessed dataset saved to {preprocessed_file}\")"
   ]
  },
  {
   "cell_type": "code",
   "execution_count": 26,
   "id": "805e3557-fe7c-4c3b-bec3-6405613afa82",
   "metadata": {},
   "outputs": [],
   "source": [
    "# Speichere die Datei als GZIP-komprimiertes CSV\n",
    "data.to_csv('dataset_compressed.csv.gz', index=False, compression='gzip')"
   ]
  },
  {
   "cell_type": "code",
   "execution_count": null,
   "id": "52fe5e87-f451-42f1-962d-bbd5ecec666d",
   "metadata": {},
   "outputs": [],
   "source": []
  }
 ],
 "metadata": {
  "kernelspec": {
   "display_name": "DS_env",
   "language": "python",
   "name": "ds_env"
  },
  "language_info": {
   "codemirror_mode": {
    "name": "ipython",
    "version": 3
   },
   "file_extension": ".py",
   "mimetype": "text/x-python",
   "name": "python",
   "nbconvert_exporter": "python",
   "pygments_lexer": "ipython3",
   "version": "3.12.7"
  }
 },
 "nbformat": 4,
 "nbformat_minor": 5
}
