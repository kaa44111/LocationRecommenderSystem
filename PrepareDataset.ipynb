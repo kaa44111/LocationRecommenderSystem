{
 "cells": [
  {
   "cell_type": "markdown",
   "id": "072958fe-a1b8-41aa-bbcd-0894bd9435dd",
   "metadata": {},
   "source": [
    "## 1. Load and Inspect the Data\n",
    "Load the data and check its structure and basic statistics."
   ]
  },
  {
   "cell_type": "code",
   "execution_count": 3,
   "id": "0cbea62f-b7b0-4248-a16b-bc22f1238dc4",
   "metadata": {},
   "outputs": [
    {
     "ename": "FileNotFoundError",
     "evalue": "[Errno 2] No such file or directory: 'dataset_NYC.txt'",
     "output_type": "error",
     "traceback": [
      "\u001b[0;31m---------------------------------------------------------------------------\u001b[0m",
      "\u001b[0;31mFileNotFoundError\u001b[0m                         Traceback (most recent call last)",
      "Cell \u001b[0;32mIn[3], line 4\u001b[0m\n\u001b[1;32m      1\u001b[0m \u001b[38;5;28;01mimport\u001b[39;00m \u001b[38;5;21;01mpandas\u001b[39;00m \u001b[38;5;28;01mas\u001b[39;00m \u001b[38;5;21;01mpd\u001b[39;00m\n\u001b[1;32m      3\u001b[0m \u001b[38;5;66;03m# Load the dataset\u001b[39;00m\n\u001b[0;32m----> 4\u001b[0m data \u001b[38;5;241m=\u001b[39m pd\u001b[38;5;241m.\u001b[39mread_csv(\u001b[38;5;124m'\u001b[39m\u001b[38;5;124mdataset_NYC.txt\u001b[39m\u001b[38;5;124m'\u001b[39m, sep\u001b[38;5;241m=\u001b[39m\u001b[38;5;124m'\u001b[39m\u001b[38;5;130;01m\\t\u001b[39;00m\u001b[38;5;124m'\u001b[39m, header\u001b[38;5;241m=\u001b[39m\u001b[38;5;28;01mNone\u001b[39;00m, encoding\u001b[38;5;241m=\u001b[39m\u001b[38;5;124m'\u001b[39m\u001b[38;5;124mISO-8859-1\u001b[39m\u001b[38;5;124m'\u001b[39m)\n\u001b[1;32m      5\u001b[0m data\u001b[38;5;241m.\u001b[39mcolumns \u001b[38;5;241m=\u001b[39m [\u001b[38;5;124m'\u001b[39m\u001b[38;5;124mUser_ID\u001b[39m\u001b[38;5;124m'\u001b[39m, \u001b[38;5;124m'\u001b[39m\u001b[38;5;124mVenue_ID\u001b[39m\u001b[38;5;124m'\u001b[39m, \u001b[38;5;124m'\u001b[39m\u001b[38;5;124mVenue_Category_ID\u001b[39m\u001b[38;5;124m'\u001b[39m, \u001b[38;5;124m'\u001b[39m\u001b[38;5;124mVenue_Category_Name\u001b[39m\u001b[38;5;124m'\u001b[39m, \u001b[38;5;124m'\u001b[39m\u001b[38;5;124mLatitude\u001b[39m\u001b[38;5;124m'\u001b[39m, \u001b[38;5;124m'\u001b[39m\u001b[38;5;124mLongitude\u001b[39m\u001b[38;5;124m'\u001b[39m, \u001b[38;5;124m'\u001b[39m\u001b[38;5;124mTimezone_Offset\u001b[39m\u001b[38;5;124m'\u001b[39m, \u001b[38;5;124m'\u001b[39m\u001b[38;5;124mUTC_Time\u001b[39m\u001b[38;5;124m'\u001b[39m]\n\u001b[1;32m      7\u001b[0m \u001b[38;5;66;03m# Inspect the first few rows\u001b[39;00m\n",
      "File \u001b[0;32m~/miniconda3/envs/DS_env/lib/python3.12/site-packages/pandas/io/parsers/readers.py:1026\u001b[0m, in \u001b[0;36mread_csv\u001b[0;34m(filepath_or_buffer, sep, delimiter, header, names, index_col, usecols, dtype, engine, converters, true_values, false_values, skipinitialspace, skiprows, skipfooter, nrows, na_values, keep_default_na, na_filter, verbose, skip_blank_lines, parse_dates, infer_datetime_format, keep_date_col, date_parser, date_format, dayfirst, cache_dates, iterator, chunksize, compression, thousands, decimal, lineterminator, quotechar, quoting, doublequote, escapechar, comment, encoding, encoding_errors, dialect, on_bad_lines, delim_whitespace, low_memory, memory_map, float_precision, storage_options, dtype_backend)\u001b[0m\n\u001b[1;32m   1013\u001b[0m kwds_defaults \u001b[38;5;241m=\u001b[39m _refine_defaults_read(\n\u001b[1;32m   1014\u001b[0m     dialect,\n\u001b[1;32m   1015\u001b[0m     delimiter,\n\u001b[0;32m   (...)\u001b[0m\n\u001b[1;32m   1022\u001b[0m     dtype_backend\u001b[38;5;241m=\u001b[39mdtype_backend,\n\u001b[1;32m   1023\u001b[0m )\n\u001b[1;32m   1024\u001b[0m kwds\u001b[38;5;241m.\u001b[39mupdate(kwds_defaults)\n\u001b[0;32m-> 1026\u001b[0m \u001b[38;5;28;01mreturn\u001b[39;00m _read(filepath_or_buffer, kwds)\n",
      "File \u001b[0;32m~/miniconda3/envs/DS_env/lib/python3.12/site-packages/pandas/io/parsers/readers.py:620\u001b[0m, in \u001b[0;36m_read\u001b[0;34m(filepath_or_buffer, kwds)\u001b[0m\n\u001b[1;32m    617\u001b[0m _validate_names(kwds\u001b[38;5;241m.\u001b[39mget(\u001b[38;5;124m\"\u001b[39m\u001b[38;5;124mnames\u001b[39m\u001b[38;5;124m\"\u001b[39m, \u001b[38;5;28;01mNone\u001b[39;00m))\n\u001b[1;32m    619\u001b[0m \u001b[38;5;66;03m# Create the parser.\u001b[39;00m\n\u001b[0;32m--> 620\u001b[0m parser \u001b[38;5;241m=\u001b[39m TextFileReader(filepath_or_buffer, \u001b[38;5;241m*\u001b[39m\u001b[38;5;241m*\u001b[39mkwds)\n\u001b[1;32m    622\u001b[0m \u001b[38;5;28;01mif\u001b[39;00m chunksize \u001b[38;5;129;01mor\u001b[39;00m iterator:\n\u001b[1;32m    623\u001b[0m     \u001b[38;5;28;01mreturn\u001b[39;00m parser\n",
      "File \u001b[0;32m~/miniconda3/envs/DS_env/lib/python3.12/site-packages/pandas/io/parsers/readers.py:1620\u001b[0m, in \u001b[0;36mTextFileReader.__init__\u001b[0;34m(self, f, engine, **kwds)\u001b[0m\n\u001b[1;32m   1617\u001b[0m     \u001b[38;5;28mself\u001b[39m\u001b[38;5;241m.\u001b[39moptions[\u001b[38;5;124m\"\u001b[39m\u001b[38;5;124mhas_index_names\u001b[39m\u001b[38;5;124m\"\u001b[39m] \u001b[38;5;241m=\u001b[39m kwds[\u001b[38;5;124m\"\u001b[39m\u001b[38;5;124mhas_index_names\u001b[39m\u001b[38;5;124m\"\u001b[39m]\n\u001b[1;32m   1619\u001b[0m \u001b[38;5;28mself\u001b[39m\u001b[38;5;241m.\u001b[39mhandles: IOHandles \u001b[38;5;241m|\u001b[39m \u001b[38;5;28;01mNone\u001b[39;00m \u001b[38;5;241m=\u001b[39m \u001b[38;5;28;01mNone\u001b[39;00m\n\u001b[0;32m-> 1620\u001b[0m \u001b[38;5;28mself\u001b[39m\u001b[38;5;241m.\u001b[39m_engine \u001b[38;5;241m=\u001b[39m \u001b[38;5;28mself\u001b[39m\u001b[38;5;241m.\u001b[39m_make_engine(f, \u001b[38;5;28mself\u001b[39m\u001b[38;5;241m.\u001b[39mengine)\n",
      "File \u001b[0;32m~/miniconda3/envs/DS_env/lib/python3.12/site-packages/pandas/io/parsers/readers.py:1880\u001b[0m, in \u001b[0;36mTextFileReader._make_engine\u001b[0;34m(self, f, engine)\u001b[0m\n\u001b[1;32m   1878\u001b[0m     \u001b[38;5;28;01mif\u001b[39;00m \u001b[38;5;124m\"\u001b[39m\u001b[38;5;124mb\u001b[39m\u001b[38;5;124m\"\u001b[39m \u001b[38;5;129;01mnot\u001b[39;00m \u001b[38;5;129;01min\u001b[39;00m mode:\n\u001b[1;32m   1879\u001b[0m         mode \u001b[38;5;241m+\u001b[39m\u001b[38;5;241m=\u001b[39m \u001b[38;5;124m\"\u001b[39m\u001b[38;5;124mb\u001b[39m\u001b[38;5;124m\"\u001b[39m\n\u001b[0;32m-> 1880\u001b[0m \u001b[38;5;28mself\u001b[39m\u001b[38;5;241m.\u001b[39mhandles \u001b[38;5;241m=\u001b[39m get_handle(\n\u001b[1;32m   1881\u001b[0m     f,\n\u001b[1;32m   1882\u001b[0m     mode,\n\u001b[1;32m   1883\u001b[0m     encoding\u001b[38;5;241m=\u001b[39m\u001b[38;5;28mself\u001b[39m\u001b[38;5;241m.\u001b[39moptions\u001b[38;5;241m.\u001b[39mget(\u001b[38;5;124m\"\u001b[39m\u001b[38;5;124mencoding\u001b[39m\u001b[38;5;124m\"\u001b[39m, \u001b[38;5;28;01mNone\u001b[39;00m),\n\u001b[1;32m   1884\u001b[0m     compression\u001b[38;5;241m=\u001b[39m\u001b[38;5;28mself\u001b[39m\u001b[38;5;241m.\u001b[39moptions\u001b[38;5;241m.\u001b[39mget(\u001b[38;5;124m\"\u001b[39m\u001b[38;5;124mcompression\u001b[39m\u001b[38;5;124m\"\u001b[39m, \u001b[38;5;28;01mNone\u001b[39;00m),\n\u001b[1;32m   1885\u001b[0m     memory_map\u001b[38;5;241m=\u001b[39m\u001b[38;5;28mself\u001b[39m\u001b[38;5;241m.\u001b[39moptions\u001b[38;5;241m.\u001b[39mget(\u001b[38;5;124m\"\u001b[39m\u001b[38;5;124mmemory_map\u001b[39m\u001b[38;5;124m\"\u001b[39m, \u001b[38;5;28;01mFalse\u001b[39;00m),\n\u001b[1;32m   1886\u001b[0m     is_text\u001b[38;5;241m=\u001b[39mis_text,\n\u001b[1;32m   1887\u001b[0m     errors\u001b[38;5;241m=\u001b[39m\u001b[38;5;28mself\u001b[39m\u001b[38;5;241m.\u001b[39moptions\u001b[38;5;241m.\u001b[39mget(\u001b[38;5;124m\"\u001b[39m\u001b[38;5;124mencoding_errors\u001b[39m\u001b[38;5;124m\"\u001b[39m, \u001b[38;5;124m\"\u001b[39m\u001b[38;5;124mstrict\u001b[39m\u001b[38;5;124m\"\u001b[39m),\n\u001b[1;32m   1888\u001b[0m     storage_options\u001b[38;5;241m=\u001b[39m\u001b[38;5;28mself\u001b[39m\u001b[38;5;241m.\u001b[39moptions\u001b[38;5;241m.\u001b[39mget(\u001b[38;5;124m\"\u001b[39m\u001b[38;5;124mstorage_options\u001b[39m\u001b[38;5;124m\"\u001b[39m, \u001b[38;5;28;01mNone\u001b[39;00m),\n\u001b[1;32m   1889\u001b[0m )\n\u001b[1;32m   1890\u001b[0m \u001b[38;5;28;01massert\u001b[39;00m \u001b[38;5;28mself\u001b[39m\u001b[38;5;241m.\u001b[39mhandles \u001b[38;5;129;01mis\u001b[39;00m \u001b[38;5;129;01mnot\u001b[39;00m \u001b[38;5;28;01mNone\u001b[39;00m\n\u001b[1;32m   1891\u001b[0m f \u001b[38;5;241m=\u001b[39m \u001b[38;5;28mself\u001b[39m\u001b[38;5;241m.\u001b[39mhandles\u001b[38;5;241m.\u001b[39mhandle\n",
      "File \u001b[0;32m~/miniconda3/envs/DS_env/lib/python3.12/site-packages/pandas/io/common.py:873\u001b[0m, in \u001b[0;36mget_handle\u001b[0;34m(path_or_buf, mode, encoding, compression, memory_map, is_text, errors, storage_options)\u001b[0m\n\u001b[1;32m    868\u001b[0m \u001b[38;5;28;01melif\u001b[39;00m \u001b[38;5;28misinstance\u001b[39m(handle, \u001b[38;5;28mstr\u001b[39m):\n\u001b[1;32m    869\u001b[0m     \u001b[38;5;66;03m# Check whether the filename is to be opened in binary mode.\u001b[39;00m\n\u001b[1;32m    870\u001b[0m     \u001b[38;5;66;03m# Binary mode does not support 'encoding' and 'newline'.\u001b[39;00m\n\u001b[1;32m    871\u001b[0m     \u001b[38;5;28;01mif\u001b[39;00m ioargs\u001b[38;5;241m.\u001b[39mencoding \u001b[38;5;129;01mand\u001b[39;00m \u001b[38;5;124m\"\u001b[39m\u001b[38;5;124mb\u001b[39m\u001b[38;5;124m\"\u001b[39m \u001b[38;5;129;01mnot\u001b[39;00m \u001b[38;5;129;01min\u001b[39;00m ioargs\u001b[38;5;241m.\u001b[39mmode:\n\u001b[1;32m    872\u001b[0m         \u001b[38;5;66;03m# Encoding\u001b[39;00m\n\u001b[0;32m--> 873\u001b[0m         handle \u001b[38;5;241m=\u001b[39m \u001b[38;5;28mopen\u001b[39m(\n\u001b[1;32m    874\u001b[0m             handle,\n\u001b[1;32m    875\u001b[0m             ioargs\u001b[38;5;241m.\u001b[39mmode,\n\u001b[1;32m    876\u001b[0m             encoding\u001b[38;5;241m=\u001b[39mioargs\u001b[38;5;241m.\u001b[39mencoding,\n\u001b[1;32m    877\u001b[0m             errors\u001b[38;5;241m=\u001b[39merrors,\n\u001b[1;32m    878\u001b[0m             newline\u001b[38;5;241m=\u001b[39m\u001b[38;5;124m\"\u001b[39m\u001b[38;5;124m\"\u001b[39m,\n\u001b[1;32m    879\u001b[0m         )\n\u001b[1;32m    880\u001b[0m     \u001b[38;5;28;01melse\u001b[39;00m:\n\u001b[1;32m    881\u001b[0m         \u001b[38;5;66;03m# Binary mode\u001b[39;00m\n\u001b[1;32m    882\u001b[0m         handle \u001b[38;5;241m=\u001b[39m \u001b[38;5;28mopen\u001b[39m(handle, ioargs\u001b[38;5;241m.\u001b[39mmode)\n",
      "\u001b[0;31mFileNotFoundError\u001b[0m: [Errno 2] No such file or directory: 'dataset_NYC.txt'"
     ]
    }
   ],
   "source": [
    "import pandas as pd\n",
    "\n",
    "# Load the dataset\n",
    "data = pd.read_csv('dataset_NYC.txt', sep='\\t', header=None, encoding='ISO-8859-1')\n",
    "data.columns = ['User_ID', 'Venue_ID', 'Venue_Category_ID', 'Venue_Category_Name', 'Latitude', 'Longitude', 'Timezone_Offset', 'UTC_Time']\n",
    "\n",
    "# Inspect the first few rows\n",
    "print(data.head())\n",
    "\n",
    "# Check dataset dimensions\n",
    "print(\"Dataset shape:\", data.shape)\n",
    "\n",
    "# Summary statistics\n",
    "print(data.describe())\n",
    "\n",
    "# Check for missing values\n",
    "print(\"Missing values per column:\\n\", data.isnull().sum())"
   ]
  },
  {
   "cell_type": "markdown",
   "id": "7a587a1c-4a14-4cff-a73c-ae39a2509b68",
   "metadata": {},
   "source": [
    "## 2.Handle Missing Values\n",
    "Analyze the number of unique users, venues, and categories.\n",
    "\n",
    "### a) Handle Venue_Category_Name:"
   ]
  },
  {
   "cell_type": "code",
   "execution_count": 8,
   "id": "4e5759d3-e9f1-4119-9594-a97f58d2c86f",
   "metadata": {},
   "outputs": [],
   "source": [
    "# Fill missing categories with the most frequent category\n",
    "most_frequent_category = data['Venue_Category_Name'].mode()[0]\n",
    "data['Venue_Category_Name'] = data['Venue_Category_Name'].fillna(most_frequent_category)"
   ]
  },
  {
   "cell_type": "markdown",
   "id": "5fbe2158-86c6-4dcf-8c4f-a60f416bccdf",
   "metadata": {},
   "source": [
    "### b) Drop Rows with Missing Coordinates:"
   ]
  },
  {
   "cell_type": "code",
   "execution_count": 9,
   "id": "e4e6b9c1-4b41-4c2c-a522-2b27d28c47e4",
   "metadata": {},
   "outputs": [
    {
     "name": "stdout",
     "output_type": "stream",
     "text": [
      "Dataset shape: (226913, 8)\n"
     ]
    }
   ],
   "source": [
    "# Remove rows with missing Latitude or Longitude\n",
    "data = data.dropna(subset=['Latitude', 'Longitude'])\n",
    "print(\"Dataset shape:\", data.shape)"
   ]
  },
  {
   "cell_type": "markdown",
   "id": "08f798f2-7000-4ac4-83f3-5741eb9669a7",
   "metadata": {},
   "source": [
    "## 3.  Remove Outliers\n",
    "### a) Check Coordinate Bounds:\n",
    "\n",
    "Use approximate bounds for New York City:"
   ]
  },
  {
   "cell_type": "code",
   "execution_count": 7,
   "id": "f12c0226-bb57-4a0d-8d48-84912ba1ec7f",
   "metadata": {},
   "outputs": [],
   "source": [
    "# Filter data within NYC bounds\n",
    "data = data[(data['Latitude'] >= 40.5) & (data['Latitude'] <= 41) & \n",
    "            (data['Longitude'] >= -74.25) & (data['Longitude'] <= -73.5)]"
   ]
  },
  {
   "cell_type": "markdown",
   "id": "29809fd1-e326-47ef-a2d7-591b0fa2bc8f",
   "metadata": {},
   "source": [
    "### b) Remove Rare or Extreme Categories:\n",
    "\n",
    "If any categories have very few entries, decide whether to keep them:"
   ]
  },
  {
   "cell_type": "code",
   "execution_count": 13,
   "id": "6264cebe-8f1c-4140-bd53-caac82537097",
   "metadata": {},
   "outputs": [
    {
     "name": "stdout",
     "output_type": "stream",
     "text": [
      "Venue_Category_Name\n",
      "Bar                         15960\n",
      "Home (private)              15231\n",
      "Office                      12735\n",
      "Subway                       9348\n",
      "Gym / Fitness Center         9127\n",
      "                            ...  \n",
      "Portuguese Restaurant           9\n",
      "Bike Rental / Bike Share        9\n",
      "Distillery                      8\n",
      "Internet Cafe                   6\n",
      "Gluten-free Restaurant          5\n",
      "Name: count, Length: 244, dtype: int64\n"
     ]
    }
   ],
   "source": [
    "# Check frequency of categories\n",
    "category_counts = data['Venue_Category_Name'].value_counts()\n",
    "print(category_counts)\n",
    "\n",
    "# Optional: Drop categories with less than 5 occurrences\n",
    "rare_categories = category_counts[category_counts < 100].index\n",
    "data = data[~data['Venue_Category_Name'].isin(rare_categories)]"
   ]
  },
  {
   "cell_type": "code",
   "execution_count": 14,
   "id": "c252ad6c-a912-4ad3-8bf8-95e91c12f239",
   "metadata": {},
   "outputs": [
    {
     "name": "stdout",
     "output_type": "stream",
     "text": [
      "Venue_Category_Name\n",
      "Bar                     15960\n",
      "Home (private)          15231\n",
      "Office                  12735\n",
      "Subway                   9348\n",
      "Gym / Fitness Center     9127\n",
      "                        ...  \n",
      "Market                    113\n",
      "Factory                   112\n",
      "Record Shop               112\n",
      "Zoo                       104\n",
      "Pool Hall                 100\n",
      "Name: count, Length: 167, dtype: int64\n"
     ]
    }
   ],
   "source": [
    "category_counts = data['Venue_Category_Name'].value_counts()\n",
    "print(category_counts)"
   ]
  },
  {
   "cell_type": "markdown",
   "id": "1859da21-d286-4d85-8a95-ab977f7867e6",
   "metadata": {},
   "source": [
    "## 4. Transform Features\n",
    "\n",
    "### a) Normalize Latitude and Longitude:"
   ]
  },
  {
   "cell_type": "code",
   "execution_count": 15,
   "id": "ac8432bf-7a5f-420b-9ff2-03d03dd6a260",
   "metadata": {},
   "outputs": [],
   "source": [
    "from sklearn.preprocessing import StandardScaler\n",
    "\n",
    "# Normalize coordinates\n",
    "scaler = StandardScaler()\n",
    "data[['Latitude', 'Longitude']] = scaler.fit_transform(data[['Latitude', 'Longitude']])"
   ]
  },
  {
   "cell_type": "markdown",
   "id": "b7e6b887-3798-446a-8644-235393ea3784",
   "metadata": {},
   "source": [
    "### b) Encode Categories with One-Hot Encoding:"
   ]
  },
  {
   "cell_type": "code",
   "execution_count": 16,
   "id": "364b50ea-6019-45d1-a3f6-741e7ab3bb9a",
   "metadata": {},
   "outputs": [],
   "source": [
    "# One-hot encode venue categories\n",
    "venue_categories = pd.get_dummies(data['Venue_Category_Name'], prefix='Category')\n",
    "data = pd.concat([data, venue_categories], axis=1)"
   ]
  },
  {
   "cell_type": "markdown",
   "id": "09a362e7-02ac-4edd-83ea-b16674613b64",
   "metadata": {},
   "source": [
    "## 5. Enhance Dataset\n",
    "\n",
    "### a) Add Popularity as a Feature:\n",
    "\n",
    "Calculate the number of check-ins per venue:"
   ]
  },
  {
   "cell_type": "code",
   "execution_count": 20,
   "id": "83682fef-804e-4f23-a4cd-4a38adb6525a",
   "metadata": {},
   "outputs": [],
   "source": [
    "venue_popularity = data['Venue_ID'].value_counts()\n",
    "data['Venue_Popularity'] = data['Venue_ID'].map(venue_popularity).fillna(0)"
   ]
  },
  {
   "cell_type": "markdown",
   "id": "9fa4e986-f375-47df-805a-4751cab06709",
   "metadata": {},
   "source": [
    "### b) Add Proximity to a Central Location:\n",
    "\n",
    "Compute distances from the normalized NYC center (approx. [0, 0]):"
   ]
  },
  {
   "cell_type": "code",
   "execution_count": 21,
   "id": "205b6d03-3b42-4477-9086-da621a71c0d3",
   "metadata": {},
   "outputs": [],
   "source": [
    "# Compute proximity\n",
    "data['Proximity'] = (data['Latitude']**2 + data['Longitude']**2)**0.5"
   ]
  },
  {
   "cell_type": "code",
   "execution_count": 18,
   "id": "6d534e9b-c856-4eb5-827f-9190c534d50c",
   "metadata": {},
   "outputs": [
    {
     "name": "stdout",
     "output_type": "stream",
     "text": [
      "   User_ID                  Venue_ID         Venue_Category_ID  \\\n",
      "0      470  49bbd6c0f964a520f4531fe3  4bf58dd8d48988d127951735   \n",
      "1      979  4a43c0aef964a520c6a61fe3  4bf58dd8d48988d1df941735   \n",
      "2       69  4c5cc7b485a1e21e00d35711  4bf58dd8d48988d103941735   \n",
      "3      395  4bc7086715a7ef3bef9878da  4bf58dd8d48988d104941735   \n",
      "4       87  4cf2c5321d18a143951b5cec  4bf58dd8d48988d1cb941735   \n",
      "\n",
      "   Venue_Category_Name  Latitude  Longitude  Timezone_Offset  \\\n",
      "0  Arts & Crafts Store -0.471145  -0.337254             -240   \n",
      "1               Bridge -2.026610  -0.825377             -240   \n",
      "2       Home (private) -0.521365   1.065434             -240   \n",
      "3       Medical Center -0.122184  -0.101785             -240   \n",
      "4           Food Truck -0.191829  -0.185582             -240   \n",
      "\n",
      "                         UTC_Time  Category_Airport  \\\n",
      "0  Tue Apr 03 18:00:09 +0000 2012             False   \n",
      "1  Tue Apr 03 18:00:25 +0000 2012             False   \n",
      "2  Tue Apr 03 18:02:24 +0000 2012             False   \n",
      "3  Tue Apr 03 18:02:41 +0000 2012             False   \n",
      "4  Tue Apr 03 18:03:00 +0000 2012             False   \n",
      "\n",
      "   Category_American Restaurant  ...  Category_Thrift / Vintage Store  \\\n",
      "0                         False  ...                            False   \n",
      "1                         False  ...                            False   \n",
      "2                         False  ...                            False   \n",
      "3                         False  ...                            False   \n",
      "4                         False  ...                            False   \n",
      "\n",
      "   Category_Toy / Game Store  Category_Train Station  Category_University  \\\n",
      "0                      False                   False                False   \n",
      "1                      False                   False                False   \n",
      "2                      False                   False                False   \n",
      "3                      False                   False                False   \n",
      "4                      False                   False                False   \n",
      "\n",
      "   Category_Vegetarian / Vegan Restaurant  Category_Video Game Store  \\\n",
      "0                                   False                      False   \n",
      "1                                   False                      False   \n",
      "2                                   False                      False   \n",
      "3                                   False                      False   \n",
      "4                                   False                      False   \n",
      "\n",
      "   Category_Vietnamese Restaurant  Category_Wings Joint  Category_Zoo  \\\n",
      "0                           False                 False         False   \n",
      "1                           False                 False         False   \n",
      "2                           False                 False         False   \n",
      "3                           False                 False         False   \n",
      "4                           False                 False         False   \n",
      "\n",
      "   Venue_Popularity  \n",
      "0                33  \n",
      "1               135  \n",
      "2               104  \n",
      "3                 2  \n",
      "4                10  \n",
      "\n",
      "[5 rows x 176 columns]\n"
     ]
    }
   ],
   "source": [
    "# Inspect the first few rows\n",
    "print(data.head())"
   ]
  },
  {
   "cell_type": "markdown",
   "id": "0a753fc4-9f2c-427b-9886-04c70d43dd20",
   "metadata": {},
   "source": [
    "### c) Add Time Features\n",
    "Extract useful time features from UTC_Time:"
   ]
  },
  {
   "cell_type": "code",
   "execution_count": 24,
   "id": "70c6b7a2-c351-44f0-8533-d923991fdfcc",
   "metadata": {},
   "outputs": [],
   "source": [
    "# Convert UTC_Time to datetime format\n",
    "data['UTC_Time'] = pd.to_datetime(data['UTC_Time'], errors='coerce')\n",
    "\n",
    "# Extract time-based features\n",
    "data['Hour'] = data['UTC_Time'].dt.hour\n",
    "data['Day'] = data['UTC_Time'].dt.day\n",
    "data['Month'] = data['UTC_Time'].dt.month"
   ]
  },
  {
   "cell_type": "markdown",
   "id": "0eec7122-bc26-4582-9249-bf1e8b31f75c",
   "metadata": {},
   "source": [
    "## 6. Prepare Data for Recommendations\n",
    "\n",
    "### a) Create User Profiles:\n",
    "\n",
    "Aggregate user activity across all categories:"
   ]
  },
  {
   "cell_type": "code",
   "execution_count": 25,
   "id": "0b37fa04-c00d-4d42-80bc-2a3dc895abb9",
   "metadata": {},
   "outputs": [
    {
     "name": "stdout",
     "output_type": "stream",
     "text": [
      "         Category_Airport  Category_American Restaurant  Category_Arcade  \\\n",
      "User_ID                                                                    \n",
      "1                       3                            10                0   \n",
      "2                       0                             4                0   \n",
      "3                       8                            20                0   \n",
      "4                       0                             1                0   \n",
      "5                       0                             0                0   \n",
      "\n",
      "         Category_Art Gallery  Category_Art Museum  \\\n",
      "User_ID                                              \n",
      "1                           0                    0   \n",
      "2                           0                    0   \n",
      "3                           0                    5   \n",
      "4                           0                    1   \n",
      "5                           0                    0   \n",
      "\n",
      "         Category_Arts & Crafts Store  Category_Asian Restaurant  \\\n",
      "User_ID                                                            \n",
      "1                                   0                          0   \n",
      "2                                   3                          0   \n",
      "3                                   0                          1   \n",
      "4                                   0                          0   \n",
      "5                                   0                          0   \n",
      "\n",
      "         Category_Athletic & Sport  Category_Automotive Shop  \\\n",
      "User_ID                                                        \n",
      "1                                0                         0   \n",
      "2                                0                         0   \n",
      "3                                1                         0   \n",
      "4                                0                         0   \n",
      "5                                0                         0   \n",
      "\n",
      "         Category_BBQ Joint  ...  Category_Theater  \\\n",
      "User_ID                      ...                     \n",
      "1                         0  ...                 0   \n",
      "2                         0  ...                 1   \n",
      "3                         0  ...                 0   \n",
      "4                         4  ...                 3   \n",
      "5                         0  ...                 0   \n",
      "\n",
      "         Category_Thrift / Vintage Store  Category_Toy / Game Store  \\\n",
      "User_ID                                                               \n",
      "1                                      0                          0   \n",
      "2                                      0                          0   \n",
      "3                                      0                          0   \n",
      "4                                      0                          0   \n",
      "5                                      0                          0   \n",
      "\n",
      "         Category_Train Station  Category_University  \\\n",
      "User_ID                                                \n",
      "1                             0                    0   \n",
      "2                             5                    0   \n",
      "3                             0                    0   \n",
      "4                             1                    0   \n",
      "5                            16                    0   \n",
      "\n",
      "         Category_Vegetarian / Vegan Restaurant  Category_Video Game Store  \\\n",
      "User_ID                                                                      \n",
      "1                                             0                          0   \n",
      "2                                             0                          0   \n",
      "3                                             0                          0   \n",
      "4                                             0                          0   \n",
      "5                                             0                          0   \n",
      "\n",
      "         Category_Vietnamese Restaurant  Category_Wings Joint  Category_Zoo  \n",
      "User_ID                                                                      \n",
      "1                                     0                     1             0  \n",
      "2                                     0                     0             0  \n",
      "3                                     0                     0             0  \n",
      "4                                     0                     0             0  \n",
      "5                                     0                     0             0  \n",
      "\n",
      "[5 rows x 167 columns]\n"
     ]
    }
   ],
   "source": [
    "# Create user profiles by summing category activities\n",
    "user_profiles = data.groupby('User_ID')[venue_categories.columns].sum()\n",
    "print(user_profiles.head())"
   ]
  },
  {
   "cell_type": "markdown",
   "id": "2cdf0c74-2773-4164-8852-8784178220a0",
   "metadata": {},
   "source": [
    "### b) Filter Unvisited Venues for Recommendation:\n",
    "\n",
    "Identify venues not visited by a specific user:"
   ]
  },
  {
   "cell_type": "code",
   "execution_count": 26,
   "id": "40712a7d-a42e-4b31-a549-f3169b77a0c6",
   "metadata": {},
   "outputs": [],
   "source": [
    "# Example: User-specific data\n",
    "user_id = 293  # Replace with your user ID\n",
    "user_data = data[data['User_ID'] == user_id]\n",
    "\n",
    "# Identify unvisited venues\n",
    "visited_venues = user_data['Venue_ID'].unique()\n",
    "unvisited_venues = data[~data['Venue_ID'].isin(visited_venues)]"
   ]
  },
  {
   "cell_type": "markdown",
   "id": "707b5113-e6e9-4e0e-aa4b-b4d91118a354",
   "metadata": {},
   "source": [
    "#### Check the variance of user profiles and venue vectors:"
   ]
  },
  {
   "cell_type": "code",
   "execution_count": 27,
   "id": "622d15d4-bebd-49ee-82f1-7f35f385db03",
   "metadata": {},
   "outputs": [
    {
     "name": "stdout",
     "output_type": "stream",
     "text": [
      "User profile variance: User_ID\n",
      "1     4.477310\n",
      "2     6.055840\n",
      "3     5.063992\n",
      "4    29.154318\n",
      "5     6.995311\n",
      "dtype: float64\n",
      "Venue vectors variance: 0.9748250510218635\n"
     ]
    }
   ],
   "source": [
    "print(\"User profile variance:\", user_profiles.var(axis=1).head())\n",
    "print(\"Venue vectors variance:\", venue_categories.var(axis=0).sum())"
   ]
  },
  {
   "cell_type": "code",
   "execution_count": 28,
   "id": "b5f5083f-db4a-4a47-93a9-d370e3b5f967",
   "metadata": {},
   "outputs": [
    {
     "name": "stdout",
     "output_type": "stream",
     "text": [
      "Unvisited venues for User_ID 470 in category 'Restaurant':\n",
      "                      Venue_ID Venue_Category_Name  Latitude  Longitude  \\\n",
      "17    4a689777f964a520a0ca1fe3          Restaurant  0.016983  -0.058210   \n",
      "685   4d76b2bf18cc5941fd7cf33f          Restaurant -0.171242  -0.349786   \n",
      "773   4e45bca962845e1d3c88924e          Restaurant -1.090270  -0.028430   \n",
      "1989  4bd57bb44e32d13a8dd9c080          Restaurant -1.715480   0.648282   \n",
      "2880  4bb9c82e7421a59301ffc240          Restaurant -1.606022  -0.189709   \n",
      "\n",
      "      Venue_Popularity  \n",
      "17                  36  \n",
      "685                  7  \n",
      "773                 11  \n",
      "1989                21  \n",
      "2880                 1  \n"
     ]
    }
   ],
   "source": [
    "# Step 6: Filter unvisited venues for a specific user\n",
    "def get_unvisited_venues(user_id, category_name):\n",
    "    user_data = data[data['User_ID'] == user_id]\n",
    "    visited_venues = user_data['Venue_ID'].unique()  # Venues the user has visited\n",
    "    unvisited_venues = data[(~data['Venue_ID'].isin(visited_venues)) & (data['Venue_Category_Name'] == category_name)]\n",
    "    return unvisited_venues\n",
    "\n",
    "# Example: Get unvisited \"Restaurant\" venues for user 470\n",
    "user_id = 470\n",
    "category_name = 'Restaurant'\n",
    "unvisited_venues = get_unvisited_venues(user_id, category_name)\n",
    "print(\"Unvisited venues for User_ID 470 in category 'Restaurant':\")\n",
    "print(unvisited_venues[['Venue_ID', 'Venue_Category_Name', 'Latitude', 'Longitude', 'Venue_Popularity']].head())"
   ]
  },
  {
   "cell_type": "code",
   "execution_count": 29,
   "id": "ceeeb119-84b2-434d-b0b8-191fdcb7532c",
   "metadata": {},
   "outputs": [
    {
     "name": "stdout",
     "output_type": "stream",
     "text": [
      "User profile variance: User_ID\n",
      "1     4.477310\n",
      "2     6.055840\n",
      "3     5.063992\n",
      "4    29.154318\n",
      "5     6.995311\n",
      "dtype: float64\n",
      "Venue vectors variance: 0.9748250510218635\n"
     ]
    }
   ],
   "source": [
    "print(\"User profile variance:\", user_profiles.var(axis=1).head())\n",
    "print(\"Venue vectors variance:\", venue_categories.var(axis=0).sum())"
   ]
  },
  {
   "cell_type": "code",
   "execution_count": 1,
   "id": "f84c024d-a58c-42ca-8ea1-5e1708245f90",
   "metadata": {},
   "outputs": [
    {
     "ename": "NameError",
     "evalue": "name 'data' is not defined",
     "output_type": "error",
     "traceback": [
      "\u001b[0;31m---------------------------------------------------------------------------\u001b[0m",
      "\u001b[0;31mNameError\u001b[0m                                 Traceback (most recent call last)",
      "Cell \u001b[0;32mIn[1], line 2\u001b[0m\n\u001b[1;32m      1\u001b[0m preprocessed_file \u001b[38;5;241m=\u001b[39m \u001b[38;5;124m'\u001b[39m\u001b[38;5;124mpreprocessed_dataset.csv\u001b[39m\u001b[38;5;124m'\u001b[39m\n\u001b[0;32m----> 2\u001b[0m data\u001b[38;5;241m.\u001b[39mto_csv(preprocessed_file, index\u001b[38;5;241m=\u001b[39m\u001b[38;5;28;01mFalse\u001b[39;00m)\n\u001b[1;32m      3\u001b[0m \u001b[38;5;28mprint\u001b[39m(\u001b[38;5;124mf\u001b[39m\u001b[38;5;124m\"\u001b[39m\u001b[38;5;124mPreprocessed dataset saved to \u001b[39m\u001b[38;5;132;01m{\u001b[39;00mpreprocessed_file\u001b[38;5;132;01m}\u001b[39;00m\u001b[38;5;124m\"\u001b[39m)\n",
      "\u001b[0;31mNameError\u001b[0m: name 'data' is not defined"
     ]
    }
   ],
   "source": [
    "preprocessed_file = 'preprocessed_dataset.csv'\n",
    "data.to_csv(preprocessed_file, index=False)\n",
    "print(f\"Preprocessed dataset saved to {preprocessed_file}\")"
   ]
  },
  {
   "cell_type": "code",
   "execution_count": null,
   "id": "805e3557-fe7c-4c3b-bec3-6405613afa82",
   "metadata": {},
   "outputs": [],
   "source": []
  }
 ],
 "metadata": {
  "kernelspec": {
   "display_name": "DS_env",
   "language": "python",
   "name": "ds_env"
  },
  "language_info": {
   "codemirror_mode": {
    "name": "ipython",
    "version": 3
   },
   "file_extension": ".py",
   "mimetype": "text/x-python",
   "name": "python",
   "nbconvert_exporter": "python",
   "pygments_lexer": "ipython3",
   "version": "3.12.7"
  }
 },
 "nbformat": 4,
 "nbformat_minor": 5
}
